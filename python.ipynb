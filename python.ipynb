{
 "cells": [
  {
   "cell_type": "markdown",
   "metadata": {},
   "source": [
    "Question 1: Longest Increasing Subsequence\n",
    "Problem Statement:\n",
    "Given a list of integers, write a function to find the longest increasing subsequence.\n",
    "\n"
   ]
  },
  {
   "cell_type": "code",
   "execution_count": 1,
   "metadata": {},
   "outputs": [
    {
     "name": "stdout",
     "output_type": "stream",
     "text": [
      "4\n"
     ]
    }
   ],
   "source": [
    "def lis(arr):\n",
    "    if not arr:\n",
    "        return 0\n",
    "    dp=[1]*len(arr)\n",
    "    for i in range(1,len(arr)):\n",
    "        for j in range(0,i):\n",
    "            if arr[i]>arr[j]:\n",
    "                dp[i]=max(dp[i], dp[j]+1)\n",
    "    return max(dp)\n",
    "\n",
    "print(lis([10, 9, 2, 5, 3, 7, 101, 18]))"
   ]
  },
  {
   "cell_type": "markdown",
   "metadata": {},
   "source": [
    "Question 2: LRU Cache\n",
    "Problem Statement:\n",
    "Implement a LRU (Least Recently Used) cache."
   ]
  },
  {
   "cell_type": "code",
   "execution_count": 3,
   "metadata": {},
   "outputs": [
    {
     "name": "stdout",
     "output_type": "stream",
     "text": [
      "1\n",
      "-1\n",
      "-1\n",
      "3\n",
      "4\n"
     ]
    }
   ],
   "source": [
    "from collections import OrderedDict\n",
    "class LRU:\n",
    "    def __init__(self, capacity:int):\n",
    "        self.cache=OrderedDict()\n",
    "        self.capacity=capacity\n",
    "    def get(self, key:int)-> int:\n",
    "        if key not in self.cache:\n",
    "            return -1\n",
    "        val=self.cache.pop(key)\n",
    "        self.cache[key] = val\n",
    "        return val\n",
    "    def put(self, key:int, val:int)-> int:\n",
    "        if key in self.cache:\n",
    "            self.cache.pop(key)\n",
    "        elif len(self.cache)==self.capacity:\n",
    "            self.cache.popitem(last=False)\n",
    "        self.cache[key]=val\n",
    "\n",
    "cache=LRU(2)\n",
    "cache.put(1, 1)\n",
    "cache.put(2, 2)\n",
    "print(cache.get(1))  # returns 1\n",
    "cache.put(3, 3)      # evicts key 2\n",
    "print(cache.get(2))  # returns -1 (not found)\n",
    "cache.put(4, 4)      # evicts key 1\n",
    "print(cache.get(1))  # returns -1 (not found)\n",
    "print(cache.get(3))  # returns 3\n",
    "print(cache.get(4))  # returns 4"
   ]
  },
  {
   "cell_type": "markdown",
   "metadata": {},
   "source": [
    "Question 3: Linear Regression Model for House Prices\n",
    "Problem Statement:\n",
    "Implement a linear regression model to predict house prices based on given features.\n",
    "\n"
   ]
  },
  {
   "cell_type": "code",
   "execution_count": 7,
   "metadata": {},
   "outputs": [
    {
     "name": "stdout",
     "output_type": "stream",
     "text": [
      "[[2100    5]\n",
      " [1600    3]\n",
      " [2400    4]\n",
      " [1416    3]\n",
      " [3000    4]]\n",
      "[500000 330000 540000 320000 750000]\n",
      "[494110.22963139]\n"
     ]
    }
   ],
   "source": [
    "import numpy as np\n",
    "from sklearn.linear_model import LinearRegression\n",
    "\n",
    "def train_linear_regression(houses, features):\n",
    "    X=np.array([[house[feature] for feature in features] for house in houses])\n",
    "    print(X)\n",
    "    Y=np.array([house['price'] for house in houses])\n",
    "    print(Y)\n",
    "    model=LinearRegression()\n",
    "    model.fit(X,Y)\n",
    "    return model\n",
    "houses = [\n",
    "    {\"size\": 2100, \"rooms\": 5, \"price\": 500000},\n",
    "    {\"size\": 1600, \"rooms\": 3, \"price\": 330000},\n",
    "    {\"size\": 2400, \"rooms\": 4, \"price\": 540000},\n",
    "    {\"size\": 1416, \"rooms\": 3, \"price\": 320000},\n",
    "    {\"size\": 3000, \"rooms\": 4, \"price\": 750000},\n",
    "]\n",
    "features = [\"size\", \"rooms\"]\n",
    "model = train_linear_regression(houses, features)\n",
    "print(model.predict([[2100, 5]]))  # Predict price for a house with size 2100 and 5 rooms"
   ]
  },
  {
   "cell_type": "markdown",
   "metadata": {},
   "source": [
    "Question 4: Design a URL Shortener\n",
    "Problem Statement:\n",
    "Design a URL shortener service that takes a long URL and returns a shortened version. Include a function to retrieve the original URL from the shortened version.\n",
    "\n"
   ]
  },
  {
   "cell_type": "code",
   "execution_count": 9,
   "metadata": {},
   "outputs": [
    {
     "name": "stdout",
     "output_type": "stream",
     "text": [
      "https://satyam.com/0\n",
      "satyammittal.com\n"
     ]
    }
   ],
   "source": [
    "class Url_Short:\n",
    "    def __init__(self):\n",
    "        self.url_map={}\n",
    "        self.counter=0\n",
    "    \n",
    "    def encode(self, url):\n",
    "        short_url=f\"https://satyam.com/{self.counter}\"\n",
    "        self.counter+=1\n",
    "        self.url_map[short_url]=url\n",
    "        return short_url\n",
    "    \n",
    "    def decode(self, short_url):\n",
    "        if short_url not in self.url_map:\n",
    "            return -1\n",
    "        return self.url_map[short_url]\n",
    "    \n",
    "url=Url_Short()\n",
    "short=url.encode(\"satyammittal.com\")\n",
    "print(short)\n",
    "print(url.decode(short))"
   ]
  },
  {
   "cell_type": "markdown",
   "metadata": {},
   "source": [
    "Question 5: Palindrome Checker\n",
    "Problem Statement:\n",
    "Write a function to check if a given string is a palindrome."
   ]
  },
  {
   "cell_type": "code",
   "execution_count": 17,
   "metadata": {},
   "outputs": [
    {
     "name": "stdout",
     "output_type": "stream",
     "text": [
      "False\n",
      "True\n"
     ]
    }
   ],
   "source": [
    "def palindrom(s:str)->bool:\n",
    "    if not s:\n",
    "        return True\n",
    "    i,j=0,-1\n",
    "    while i<len(s)/2:\n",
    "        if s[i]!=s[j]: return False\n",
    "\n",
    "        i+=1\n",
    "        j-=1\n",
    "    return True\n",
    "print(palindrom(\"satyam\"))\n",
    "print(palindrom(\"\"))"
   ]
  },
  {
   "cell_type": "markdown",
   "metadata": {},
   "source": [
    "Question 7: Binary Search Tree Implementation\n",
    "Problem Statement:\n",
    "Implement a Binary Search Tree (BST) with insert and search operations."
   ]
  },
  {
   "cell_type": "code",
   "execution_count": null,
   "metadata": {},
   "outputs": [],
   "source": []
  }
 ],
 "metadata": {
  "kernelspec": {
   "display_name": "Python 3",
   "language": "python",
   "name": "python3"
  },
  "language_info": {
   "codemirror_mode": {
    "name": "ipython",
    "version": 3
   },
   "file_extension": ".py",
   "mimetype": "text/x-python",
   "name": "python",
   "nbconvert_exporter": "python",
   "pygments_lexer": "ipython3",
   "version": "3.10.0"
  }
 },
 "nbformat": 4,
 "nbformat_minor": 2
}
